{
 "cells": [
  {
   "cell_type": "markdown",
   "id": "beautiful-secretary",
   "metadata": {},
   "source": [
    "# Text Entry Technique Experiment"
   ]
  },
  {
   "cell_type": "markdown",
   "id": "empirical-south",
   "metadata": {},
   "source": [
    "This experiment analysis was done by Johannes Lorper"
   ]
  },
  {
   "cell_type": "markdown",
   "id": "guilty-mediterranean",
   "metadata": {},
   "source": [
    "## Experiment Analysis:"
   ]
  },
  {
   "cell_type": "markdown",
   "id": "convenient-rapid",
   "metadata": {},
   "source": [
    "### Load and activate pycodestyle"
   ]
  },
  {
   "cell_type": "code",
   "execution_count": 1,
   "id": "ongoing-teddy",
   "metadata": {},
   "outputs": [],
   "source": [
    "%load_ext pycodestyle_magic\n",
    "%pycodestyle_on"
   ]
  },
  {
   "cell_type": "markdown",
   "id": "atlantic-hollow",
   "metadata": {},
   "source": [
    "### Import libraries and read-in data"
   ]
  },
  {
   "cell_type": "code",
   "execution_count": 83,
   "id": "unauthorized-galaxy",
   "metadata": {},
   "outputs": [
    {
     "data": {
      "text/html": [
       "<div>\n",
       "<style scoped>\n",
       "    .dataframe tbody tr th:only-of-type {\n",
       "        vertical-align: middle;\n",
       "    }\n",
       "\n",
       "    .dataframe tbody tr th {\n",
       "        vertical-align: top;\n",
       "    }\n",
       "\n",
       "    .dataframe thead th {\n",
       "        text-align: right;\n",
       "    }\n",
       "</style>\n",
       "<table border=\"1\" class=\"dataframe\">\n",
       "  <thead>\n",
       "    <tr style=\"text-align: right;\">\n",
       "      <th></th>\n",
       "      <th>event_type</th>\n",
       "      <th>timestamp</th>\n",
       "      <th>participant_id</th>\n",
       "      <th>condition</th>\n",
       "      <th>with_autocompletion</th>\n",
       "      <th>entered_content</th>\n",
       "      <th>start_time_in_s</th>\n",
       "      <th>end_time_in_s</th>\n",
       "      <th>duration_in_s</th>\n",
       "    </tr>\n",
       "  </thead>\n",
       "  <tbody>\n",
       "    <tr>\n",
       "      <th>0</th>\n",
       "      <td>EventTypes.KEY_PRESSED</td>\n",
       "      <td>1.621444e+09</td>\n",
       "      <td>1</td>\n",
       "      <td>with_autocompletion_text_2</td>\n",
       "      <td>True</td>\n",
       "      <td>NaN</td>\n",
       "      <td>1.621444e+09</td>\n",
       "      <td>1.621444e+09</td>\n",
       "      <td>0.000000</td>\n",
       "    </tr>\n",
       "    <tr>\n",
       "      <th>1</th>\n",
       "      <td>EventTypes.KEY_PRESSED</td>\n",
       "      <td>1.621444e+09</td>\n",
       "      <td>1</td>\n",
       "      <td>with_autocompletion_text_2</td>\n",
       "      <td>True</td>\n",
       "      <td>I</td>\n",
       "      <td>1.621444e+09</td>\n",
       "      <td>1.621444e+09</td>\n",
       "      <td>0.000000</td>\n",
       "    </tr>\n",
       "    <tr>\n",
       "      <th>2</th>\n",
       "      <td>EventTypes.KEY_PRESSED</td>\n",
       "      <td>1.621444e+09</td>\n",
       "      <td>1</td>\n",
       "      <td>with_autocompletion_text_2</td>\n",
       "      <td>True</td>\n",
       "      <td>c</td>\n",
       "      <td>1.621444e+09</td>\n",
       "      <td>1.621444e+09</td>\n",
       "      <td>0.000000</td>\n",
       "    </tr>\n",
       "    <tr>\n",
       "      <th>3</th>\n",
       "      <td>EventTypes.KEY_PRESSED</td>\n",
       "      <td>1.621444e+09</td>\n",
       "      <td>1</td>\n",
       "      <td>with_autocompletion_text_2</td>\n",
       "      <td>True</td>\n",
       "      <td>h</td>\n",
       "      <td>1.621444e+09</td>\n",
       "      <td>1.621444e+09</td>\n",
       "      <td>0.000000</td>\n",
       "    </tr>\n",
       "    <tr>\n",
       "      <th>4</th>\n",
       "      <td>EventTypes.KEY_PRESSED</td>\n",
       "      <td>1.621444e+09</td>\n",
       "      <td>1</td>\n",
       "      <td>with_autocompletion_text_2</td>\n",
       "      <td>True</td>\n",
       "      <td>k</td>\n",
       "      <td>1.621444e+09</td>\n",
       "      <td>1.621444e+09</td>\n",
       "      <td>0.000000</td>\n",
       "    </tr>\n",
       "    <tr>\n",
       "      <th>...</th>\n",
       "      <td>...</td>\n",
       "      <td>...</td>\n",
       "      <td>...</td>\n",
       "      <td>...</td>\n",
       "      <td>...</td>\n",
       "      <td>...</td>\n",
       "      <td>...</td>\n",
       "      <td>...</td>\n",
       "      <td>...</td>\n",
       "    </tr>\n",
       "    <tr>\n",
       "      <th>5601</th>\n",
       "      <td>EventTypes.KEY_PRESSED</td>\n",
       "      <td>1.621447e+09</td>\n",
       "      <td>4</td>\n",
       "      <td>no_autocompletion_text_1</td>\n",
       "      <td>False</td>\n",
       "      <td>t</td>\n",
       "      <td>1.621447e+09</td>\n",
       "      <td>1.621447e+09</td>\n",
       "      <td>0.000000</td>\n",
       "    </tr>\n",
       "    <tr>\n",
       "      <th>5602</th>\n",
       "      <td>EventTypes.KEY_PRESSED</td>\n",
       "      <td>1.621447e+09</td>\n",
       "      <td>4</td>\n",
       "      <td>no_autocompletion_text_1</td>\n",
       "      <td>False</td>\n",
       "      <td>.</td>\n",
       "      <td>1.621447e+09</td>\n",
       "      <td>1.621447e+09</td>\n",
       "      <td>0.000000</td>\n",
       "    </tr>\n",
       "    <tr>\n",
       "      <th>5603</th>\n",
       "      <td>EventTypes.WORD_TYPED</td>\n",
       "      <td>1.621447e+09</td>\n",
       "      <td>4</td>\n",
       "      <td>no_autocompletion_text_1</td>\n",
       "      <td>False</td>\n",
       "      <td>leidet</td>\n",
       "      <td>1.621447e+09</td>\n",
       "      <td>1.621447e+09</td>\n",
       "      <td>0.727968</td>\n",
       "    </tr>\n",
       "    <tr>\n",
       "      <th>5604</th>\n",
       "      <td>EventTypes.SENTENCE_TYPED</td>\n",
       "      <td>1.621447e+09</td>\n",
       "      <td>4</td>\n",
       "      <td>no_autocompletion_text_1</td>\n",
       "      <td>False</td>\n",
       "      <td>Ich bin so glücklich, mein Bester, so ganz in ...</td>\n",
       "      <td>1.621447e+09</td>\n",
       "      <td>1.621447e+09</td>\n",
       "      <td>28.225859</td>\n",
       "    </tr>\n",
       "    <tr>\n",
       "      <th>5605</th>\n",
       "      <td>EventTypes.TEST_FINISHED</td>\n",
       "      <td>1.621447e+09</td>\n",
       "      <td>4</td>\n",
       "      <td>no_autocompletion_text_1</td>\n",
       "      <td>False</td>\n",
       "      <td>Eine wunderbare Heiterkeit hat meine ganze See...</td>\n",
       "      <td>1.621447e+09</td>\n",
       "      <td>1.621447e+09</td>\n",
       "      <td>72.162553</td>\n",
       "    </tr>\n",
       "  </tbody>\n",
       "</table>\n",
       "<p>5606 rows × 9 columns</p>\n",
       "</div>"
      ],
      "text/plain": [
       "                     event_type     timestamp  participant_id  \\\n",
       "0        EventTypes.KEY_PRESSED  1.621444e+09               1   \n",
       "1        EventTypes.KEY_PRESSED  1.621444e+09               1   \n",
       "2        EventTypes.KEY_PRESSED  1.621444e+09               1   \n",
       "3        EventTypes.KEY_PRESSED  1.621444e+09               1   \n",
       "4        EventTypes.KEY_PRESSED  1.621444e+09               1   \n",
       "...                         ...           ...             ...   \n",
       "5601     EventTypes.KEY_PRESSED  1.621447e+09               4   \n",
       "5602     EventTypes.KEY_PRESSED  1.621447e+09               4   \n",
       "5603      EventTypes.WORD_TYPED  1.621447e+09               4   \n",
       "5604  EventTypes.SENTENCE_TYPED  1.621447e+09               4   \n",
       "5605   EventTypes.TEST_FINISHED  1.621447e+09               4   \n",
       "\n",
       "                       condition  with_autocompletion  \\\n",
       "0     with_autocompletion_text_2                 True   \n",
       "1     with_autocompletion_text_2                 True   \n",
       "2     with_autocompletion_text_2                 True   \n",
       "3     with_autocompletion_text_2                 True   \n",
       "4     with_autocompletion_text_2                 True   \n",
       "...                          ...                  ...   \n",
       "5601    no_autocompletion_text_1                False   \n",
       "5602    no_autocompletion_text_1                False   \n",
       "5603    no_autocompletion_text_1                False   \n",
       "5604    no_autocompletion_text_1                False   \n",
       "5605    no_autocompletion_text_1                False   \n",
       "\n",
       "                                        entered_content  start_time_in_s  \\\n",
       "0                                                   NaN     1.621444e+09   \n",
       "1                                                     I     1.621444e+09   \n",
       "2                                                     c     1.621444e+09   \n",
       "3                                                     h     1.621444e+09   \n",
       "4                                                     k     1.621444e+09   \n",
       "...                                                 ...              ...   \n",
       "5601                                                  t     1.621447e+09   \n",
       "5602                                                  .     1.621447e+09   \n",
       "5603                                             leidet     1.621447e+09   \n",
       "5604  Ich bin so glücklich, mein Bester, so ganz in ...     1.621447e+09   \n",
       "5605  Eine wunderbare Heiterkeit hat meine ganze See...     1.621447e+09   \n",
       "\n",
       "      end_time_in_s  duration_in_s  \n",
       "0      1.621444e+09       0.000000  \n",
       "1      1.621444e+09       0.000000  \n",
       "2      1.621444e+09       0.000000  \n",
       "3      1.621444e+09       0.000000  \n",
       "4      1.621444e+09       0.000000  \n",
       "...             ...            ...  \n",
       "5601   1.621447e+09       0.000000  \n",
       "5602   1.621447e+09       0.000000  \n",
       "5603   1.621447e+09       0.727968  \n",
       "5604   1.621447e+09      28.225859  \n",
       "5605   1.621447e+09      72.162553  \n",
       "\n",
       "[5606 rows x 9 columns]"
      ]
     },
     "execution_count": 83,
     "metadata": {},
     "output_type": "execute_result"
    }
   ],
   "source": [
    "import pandas as pd\n",
    "import seaborn as sns\n",
    "from matplotlib import pyplot as plt\n",
    "from  matplotlib.ticker import FuncFormatter\n",
    "from scipy.stats import ttest_ind\n",
    "import numpy\n",
    "\n",
    "df_text_entry_log = pd.read_csv('text_entry_log.csv')\n",
    "df_text_entry_log"
   ]
  },
  {
   "cell_type": "markdown",
   "id": "random-muscle",
   "metadata": {},
   "source": [
    "### Split data"
   ]
  },
  {
   "cell_type": "code",
   "execution_count": 72,
   "id": "balanced-metabolism",
   "metadata": {},
   "outputs": [],
   "source": [
    "df_word_events = df_text_entry_log[df_text_entry_log['event_type'] == 'EventTypes.WORD_TYPED']\n",
    "\n",
    "words_no_autocomplete_condition_1_duration = df_word_events[df_word_events['condition'] == 'no_autocompletion_text_1']['duration_in_s']\n",
    "words_no_autocomplete_condition_2_duration = df_word_events[df_word_events['condition'] == 'no_autocompletion_text_2']['duration_in_s']\n",
    "words_autocomplete_condition_1_duration = df_word_events[df_word_events['condition'] == 'with_autocompletion_text_1']['duration_in_s']\n",
    "words_autocomplete_condition_2_duration = df_word_events[df_word_events['condition'] == 'with_autocompletion_text_2']['duration_in_s']"
   ]
  },
  {
   "cell_type": "markdown",
   "id": "upset-glossary",
   "metadata": {},
   "source": [
    "### Barcharts for needed time per eventype"
   ]
  },
  {
   "cell_type": "code",
   "execution_count": 73,
   "id": "disciplinary-appeal",
   "metadata": {
    "scrolled": false
   },
   "outputs": [
    {
     "data": {
      "text/plain": [
       "Text(0.5, 1.0, 'Time needed per word')"
      ]
     },
     "execution_count": 73,
     "metadata": {},
     "output_type": "execute_result"
    },
    {
     "data": {
      "image/png": "[encoded data removed]",
      "text/plain": [
       "<Figure size 432x288 with 1 Axes>"
      ]
     },
     "metadata": {
      "needs_background": "light"
     },
     "output_type": "display_data"
    }
   ],
   "source": [
    "ax = plt.axes()\n",
    "sns.barplot(data=df_word_events, x=\"participant_id\", y=\"duration_in_s\", hue=\"with_autocompletion\", \n",
    "            ax = ax)\n",
    "ax.set_xlabel(\"participant id\")\n",
    "ax.set_ylabel(\"time in seconds\")\n",
    "ax.set_title(\"Time needed per word\")"
   ]
  },
  {
   "cell_type": "markdown",
   "id": "departmental-french",
   "metadata": {},
   "source": [
    "### Something seems wrong.\n",
    "### Let's check:"
   ]
  },
  {
   "cell_type": "code",
   "execution_count": 85,
   "id": "interstate-pixel",
   "metadata": {},
   "outputs": [
    {
     "name": "stdout",
     "output_type": "stream",
     "text": [
      "234\n",
      "239\n",
      "68\n",
      "75\n"
     ]
    }
   ],
   "source": [
    "print(len(words_no_autocomplete_condition_1_duration))\n",
    "print(len(words_no_autocomplete_condition_2_duration))\n",
    "print(len(words_autocomplete_condition_1_duration))\n",
    "print(len(words_autocomplete_condition_2_duration))"
   ]
  },
  {
   "cell_type": "markdown",
   "id": "indian-lending",
   "metadata": {},
   "source": [
    "### Data Analysis:"
   ]
  },
  {
   "cell_type": "markdown",
   "id": "cutting-piece",
   "metadata": {},
   "source": [
    "Seems like our logging did not work properly with our text_input_technique. Sadly this was noticed after we did the experiments with our participants. Since the data ins incorrect we cant do an empiric analysis of our input technique. For further info read the text_input.pdf"
   ]
  },
  {
   "cell_type": "markdown",
   "id": "immune-vampire",
   "metadata": {},
   "source": [
    "### Descriptive Analysis of non-auto-complete data"
   ]
  },
  {
   "cell_type": "code",
   "execution_count": 87,
   "id": "rapid-enhancement",
   "metadata": {},
   "outputs": [
    {
     "name": "stdout",
     "output_type": "stream",
     "text": [
      "The mean duration per word for non-autocompletion with text 1 was: 0.9761468498115866\n",
      "The mean duration per word for non-autocompletion with text 2 was: 0.9115355543511682\n"
     ]
    }
   ],
   "source": [
    "print(f\"The mean duration per word for non-autocompletion with text 1 was: {words_no_autocomplete_condition_1_duration.mean()}\")\n",
    "print(f\"The mean duration per word for non-autocompletion with text 2 was: {words_no_autocomplete_condition_2_duration.mean()}\")"
   ]
  },
  {
   "cell_type": "code",
   "execution_count": 86,
   "id": "offensive-bicycle",
   "metadata": {},
   "outputs": [
    {
     "name": "stdout",
     "output_type": "stream",
     "text": [
      "The median duration per word for non-autocompletion with text 1 was: 0.7919174432754517\n",
      "The median duration per word for non-autocompletion with text 2 was: 0.6960799694061279\n"
     ]
    }
   ],
   "source": [
    "print(f\"The median duration per word for non-autocompletion with text 1 was: {words_no_autocomplete_condition_1_duration.median()}\")\n",
    "print(f\"The median duration per word for non-autocompletion with text 2 was: {words_no_autocomplete_condition_2_duration.median()}\")"
   ]
  },
  {
   "cell_type": "code",
   "execution_count": 91,
   "id": "atlantic-classics",
   "metadata": {},
   "outputs": [
    {
     "name": "stdout",
     "output_type": "stream",
     "text": [
      "The standart deviation of the duration per word for non-autocompletion with text 1 was: 0.7528097204217948\n",
      "The standart deviation of the duration per word for non-autocompletion with text 2 was: 0.7128054617665542\n"
     ]
    }
   ],
   "source": [
    "print(f\"The standart deviation of the duration per word for non-autocompletion with text 1 was: {numpy.std(words_no_autocomplete_condition_1_duration)}\")\n",
    "print(f\"The standart deviation of the duration per word for non-autocompletion with text 2 was: {numpy.std(words_no_autocomplete_condition_2_duration)}\")\n"
   ]
  }
 ],
 "metadata": {
  "kernelspec": {
   "display_name": "Python 3",
   "language": "python",
   "name": "python3"
  },
  "language_info": {
   "codemirror_mode": {
    "name": "ipython",
    "version": 3
   },
   "file_extension": ".py",
   "mimetype": "text/x-python",
   "name": "python",
   "nbconvert_exporter": "python",
   "pygments_lexer": "ipython3",
   "version": "3.9.2"
  }
 },
 "nbformat": 4,
 "nbformat_minor": 5
}
